{
 "cells": [
  {
   "cell_type": "markdown",
   "metadata": {},
   "source": [
    "Value at Risk (VaR) Models Part 1\n",
    "==="
   ]
  },
  {
   "cell_type": "markdown",
   "metadata": {},
   "source": [
    "These models quantify the financial risk (later defined) given a a portfolio of assets. Quantifying this risk accurately helps protect against the worst case scenario (getting securities insurance, making hedged investments, adjusting the portfolio allocation to lower the VaR statistic; also determines if a firm is overexposed). We will define here a portfolio $P$ and be calculating its VaR statistic."
   ]
  },
  {
   "cell_type": "markdown",
   "metadata": {},
   "source": [
    "* Suppose I were to state that portfolio $P$ has a 5% two-month VaR of 7%, this implies that the assets in portfolio $P$ are likely to lose 7% of their value (maybe in different proportions, but averaging out to a loss of 7%) with a 5% chance over a 2-month period. \n",
    "\n",
    "* Similarly, a weekly VaR of USD 20,000 on a 95% confidence interval on portfolio implies that there is a 5% chance that the value of the investment decreases by more than USD 20,000 in a week."
   ]
  },
  {
   "cell_type": "markdown",
   "metadata": {},
   "source": [
    "|Advantages|Disadvantages|\n",
    "|---|---|\n",
    "|Single % number - easy to interpret and convey|No protocol to statistical testing or data collection (though there is an industry common practice precedent)|\n",
    "|VaR computations can be compared across different types of assets—shares, bonds, derivatives, currencies.|Gives the lower bound for loss (a 20% risk is still fulfilled on a loss of 50%)|\n",
    "|It is very popular and so many versions are readily available (such as on bloomberg terminal).|Depending on the level of sophistication, the models can be very hard to maintain and so can have cascading errors.|\n"
   ]
  },
  {
   "cell_type": "markdown",
   "metadata": {},
   "source": [
    "## Calculating VaR"
   ]
  },
  {
   "cell_type": "markdown",
   "metadata": {},
   "source": [
    "### Variance and Covariance Method"
   ]
  },
  {
   "cell_type": "markdown",
   "metadata": {},
   "source": [
    "Since VaR measures the probability of an asset losing value over time, we must be able to sufficiently estimate it's distribution (very often we assume the normal distribution for its simplicity but that may not necessarily be appropriate). Knowing the distribution can help us calculate the variance and covariance thus making this computation simple. It is estimating the distribution that requires effort."
   ]
  },
  {
   "cell_type": "markdown",
   "metadata": {},
   "source": [
    "The central inputs to estimating the variance of a portfolio\n",
    "are the covariances of the pairs of assets in the portfolio; in a portfolio of 100 assets, there\n",
    "will be 49,500 covariances that need to be estimated, in addition to the 100 individual\n",
    "asset variances. Clearly, this is not practical for large portfolios with shifting asset\n",
    "positions.\n",
    "It is to simplify this process that we map the risk in the individual investments in\n",
    "the portfolio to more general market risks, when we compute Value at Risk, and then\n",
    "estimate the measure based on these market risk exposures"
   ]
  },
  {
   "cell_type": "markdown",
   "metadata": {},
   "source": [
    "### Historical Method"
   ]
  },
  {
   "cell_type": "markdown",
   "metadata": {},
   "source": [
    "We use historical price performance to estimate a VaR for a certain historical eriod (for example over a year) and we then declare a VaR statistic based on realised volatility and expected returns. This is a lot more intuitive and less computationally exhaustive but leaves us exposed to fat-tailed risk."
   ]
  },
  {
   "cell_type": "markdown",
   "metadata": {},
   "source": [
    "Typically (by convention of Modern Portfolio Theory), a well-balanced portfolio should be able to minimise the likelihood of a fat-tail risk as it reduces skewness and kurtosis of a normally approximable random variable.\n",
    "TLDR: A 'balanced' portfolio should be able to give you a manageable maximal risk given a sound dataset."
   ]
  },
  {
   "cell_type": "code",
   "execution_count": 3,
   "metadata": {},
   "outputs": [],
   "source": [
    "# dependecies\n",
    "import yfinance as yf\n",
    "import numpy as np\n",
    "import statsmodels as statsmod\n",
    "import matplotlib.pyplot as plt\n",
    "import pandas as pd \n",
    "import statistics as stats"
   ]
  },
  {
   "cell_type": "code",
   "execution_count": 4,
   "metadata": {},
   "outputs": [
    {
     "data": {
      "text/html": [
       "<div>\n",
       "<style scoped>\n",
       "    .dataframe tbody tr th:only-of-type {\n",
       "        vertical-align: middle;\n",
       "    }\n",
       "\n",
       "    .dataframe tbody tr th {\n",
       "        vertical-align: top;\n",
       "    }\n",
       "\n",
       "    .dataframe thead th {\n",
       "        text-align: right;\n",
       "    }\n",
       "</style>\n",
       "<table border=\"1\" class=\"dataframe\">\n",
       "  <thead>\n",
       "    <tr style=\"text-align: right;\">\n",
       "      <th></th>\n",
       "      <th>Open</th>\n",
       "      <th>High</th>\n",
       "      <th>Low</th>\n",
       "      <th>Close</th>\n",
       "      <th>Volume</th>\n",
       "      <th>Dividends</th>\n",
       "      <th>Stock Splits</th>\n",
       "    </tr>\n",
       "    <tr>\n",
       "      <th>Date</th>\n",
       "      <th></th>\n",
       "      <th></th>\n",
       "      <th></th>\n",
       "      <th></th>\n",
       "      <th></th>\n",
       "      <th></th>\n",
       "      <th></th>\n",
       "    </tr>\n",
       "  </thead>\n",
       "  <tbody>\n",
       "    <tr>\n",
       "      <th>2023-02-20 00:00:00+00:00</th>\n",
       "      <td>0.83137</td>\n",
       "      <td>0.83226</td>\n",
       "      <td>0.829430</td>\n",
       "      <td>0.83127</td>\n",
       "      <td>0</td>\n",
       "      <td>0.0</td>\n",
       "      <td>0.0</td>\n",
       "    </tr>\n",
       "    <tr>\n",
       "      <th>2023-02-21 00:00:00+00:00</th>\n",
       "      <td>0.83076</td>\n",
       "      <td>0.83394</td>\n",
       "      <td>0.823460</td>\n",
       "      <td>0.83062</td>\n",
       "      <td>0</td>\n",
       "      <td>0.0</td>\n",
       "      <td>0.0</td>\n",
       "    </tr>\n",
       "    <tr>\n",
       "      <th>2023-02-22 00:00:00+00:00</th>\n",
       "      <td>0.82577</td>\n",
       "      <td>0.82929</td>\n",
       "      <td>0.824020</td>\n",
       "      <td>0.82581</td>\n",
       "      <td>0</td>\n",
       "      <td>0.0</td>\n",
       "      <td>0.0</td>\n",
       "    </tr>\n",
       "    <tr>\n",
       "      <th>2023-02-23 00:00:00+00:00</th>\n",
       "      <td>0.82994</td>\n",
       "      <td>0.83240</td>\n",
       "      <td>0.828130</td>\n",
       "      <td>0.82988</td>\n",
       "      <td>0</td>\n",
       "      <td>0.0</td>\n",
       "      <td>0.0</td>\n",
       "    </tr>\n",
       "    <tr>\n",
       "      <th>2023-02-24 00:00:00+00:00</th>\n",
       "      <td>0.83213</td>\n",
       "      <td>0.83812</td>\n",
       "      <td>0.830520</td>\n",
       "      <td>0.83210</td>\n",
       "      <td>0</td>\n",
       "      <td>0.0</td>\n",
       "      <td>0.0</td>\n",
       "    </tr>\n",
       "    <tr>\n",
       "      <th>...</th>\n",
       "      <td>...</td>\n",
       "      <td>...</td>\n",
       "      <td>...</td>\n",
       "      <td>...</td>\n",
       "      <td>...</td>\n",
       "      <td>...</td>\n",
       "      <td>...</td>\n",
       "    </tr>\n",
       "    <tr>\n",
       "      <th>2024-02-13 00:00:00+00:00</th>\n",
       "      <td>0.79192</td>\n",
       "      <td>0.79505</td>\n",
       "      <td>0.788430</td>\n",
       "      <td>0.79192</td>\n",
       "      <td>0</td>\n",
       "      <td>0.0</td>\n",
       "      <td>0.0</td>\n",
       "    </tr>\n",
       "    <tr>\n",
       "      <th>2024-02-14 00:00:00+00:00</th>\n",
       "      <td>0.79420</td>\n",
       "      <td>0.79764</td>\n",
       "      <td>0.792959</td>\n",
       "      <td>0.79424</td>\n",
       "      <td>0</td>\n",
       "      <td>0.0</td>\n",
       "      <td>0.0</td>\n",
       "    </tr>\n",
       "    <tr>\n",
       "      <th>2024-02-15 00:00:00+00:00</th>\n",
       "      <td>0.79566</td>\n",
       "      <td>0.79728</td>\n",
       "      <td>0.793870</td>\n",
       "      <td>0.79565</td>\n",
       "      <td>0</td>\n",
       "      <td>0.0</td>\n",
       "      <td>0.0</td>\n",
       "    </tr>\n",
       "    <tr>\n",
       "      <th>2024-02-16 00:00:00+00:00</th>\n",
       "      <td>0.79370</td>\n",
       "      <td>0.79653</td>\n",
       "      <td>0.793500</td>\n",
       "      <td>0.79370</td>\n",
       "      <td>0</td>\n",
       "      <td>0.0</td>\n",
       "      <td>0.0</td>\n",
       "    </tr>\n",
       "    <tr>\n",
       "      <th>2024-02-19 00:00:00+00:00</th>\n",
       "      <td>0.79359</td>\n",
       "      <td>0.79456</td>\n",
       "      <td>0.791770</td>\n",
       "      <td>0.79440</td>\n",
       "      <td>0</td>\n",
       "      <td>0.0</td>\n",
       "      <td>0.0</td>\n",
       "    </tr>\n",
       "  </tbody>\n",
       "</table>\n",
       "<p>261 rows × 7 columns</p>\n",
       "</div>"
      ],
      "text/plain": [
       "                              Open     High       Low    Close  Volume  \\\n",
       "Date                                                                     \n",
       "2023-02-20 00:00:00+00:00  0.83137  0.83226  0.829430  0.83127       0   \n",
       "2023-02-21 00:00:00+00:00  0.83076  0.83394  0.823460  0.83062       0   \n",
       "2023-02-22 00:00:00+00:00  0.82577  0.82929  0.824020  0.82581       0   \n",
       "2023-02-23 00:00:00+00:00  0.82994  0.83240  0.828130  0.82988       0   \n",
       "2023-02-24 00:00:00+00:00  0.83213  0.83812  0.830520  0.83210       0   \n",
       "...                            ...      ...       ...      ...     ...   \n",
       "2024-02-13 00:00:00+00:00  0.79192  0.79505  0.788430  0.79192       0   \n",
       "2024-02-14 00:00:00+00:00  0.79420  0.79764  0.792959  0.79424       0   \n",
       "2024-02-15 00:00:00+00:00  0.79566  0.79728  0.793870  0.79565       0   \n",
       "2024-02-16 00:00:00+00:00  0.79370  0.79653  0.793500  0.79370       0   \n",
       "2024-02-19 00:00:00+00:00  0.79359  0.79456  0.791770  0.79440       0   \n",
       "\n",
       "                           Dividends  Stock Splits  \n",
       "Date                                                \n",
       "2023-02-20 00:00:00+00:00        0.0           0.0  \n",
       "2023-02-21 00:00:00+00:00        0.0           0.0  \n",
       "2023-02-22 00:00:00+00:00        0.0           0.0  \n",
       "2023-02-23 00:00:00+00:00        0.0           0.0  \n",
       "2023-02-24 00:00:00+00:00        0.0           0.0  \n",
       "...                              ...           ...  \n",
       "2024-02-13 00:00:00+00:00        0.0           0.0  \n",
       "2024-02-14 00:00:00+00:00        0.0           0.0  \n",
       "2024-02-15 00:00:00+00:00        0.0           0.0  \n",
       "2024-02-16 00:00:00+00:00        0.0           0.0  \n",
       "2024-02-19 00:00:00+00:00        0.0           0.0  \n",
       "\n",
       "[261 rows x 7 columns]"
      ]
     },
     "execution_count": 4,
     "metadata": {},
     "output_type": "execute_result"
    }
   ],
   "source": [
    "# using the USDGBP pair, making it usable for Pandas\n",
    "usdgbp = yf.Ticker(\"USDGBP=X\")\n",
    "usdgbp.info\n",
    "price_USDGBP = usdgbp.history(period = \"1y\")\n",
    "price_USDGBP\n",
    "df = pd.DataFrame(price_USDGBP)\n",
    "df"
   ]
  },
  {
   "cell_type": "code",
   "execution_count": 5,
   "metadata": {},
   "outputs": [
    {
     "data": {
      "text/html": [
       "<div>\n",
       "<style scoped>\n",
       "    .dataframe tbody tr th:only-of-type {\n",
       "        vertical-align: middle;\n",
       "    }\n",
       "\n",
       "    .dataframe tbody tr th {\n",
       "        vertical-align: top;\n",
       "    }\n",
       "\n",
       "    .dataframe thead th {\n",
       "        text-align: right;\n",
       "    }\n",
       "</style>\n",
       "<table border=\"1\" class=\"dataframe\">\n",
       "  <thead>\n",
       "    <tr style=\"text-align: right;\">\n",
       "      <th></th>\n",
       "      <th>Close</th>\n",
       "    </tr>\n",
       "    <tr>\n",
       "      <th>Date</th>\n",
       "      <th></th>\n",
       "    </tr>\n",
       "  </thead>\n",
       "  <tbody>\n",
       "    <tr>\n",
       "      <th>2023-02-20 00:00:00+00:00</th>\n",
       "      <td>0.83127</td>\n",
       "    </tr>\n",
       "    <tr>\n",
       "      <th>2023-02-21 00:00:00+00:00</th>\n",
       "      <td>0.83062</td>\n",
       "    </tr>\n",
       "    <tr>\n",
       "      <th>2023-02-22 00:00:00+00:00</th>\n",
       "      <td>0.82581</td>\n",
       "    </tr>\n",
       "    <tr>\n",
       "      <th>2023-02-23 00:00:00+00:00</th>\n",
       "      <td>0.82988</td>\n",
       "    </tr>\n",
       "    <tr>\n",
       "      <th>2023-02-24 00:00:00+00:00</th>\n",
       "      <td>0.83210</td>\n",
       "    </tr>\n",
       "    <tr>\n",
       "      <th>...</th>\n",
       "      <td>...</td>\n",
       "    </tr>\n",
       "    <tr>\n",
       "      <th>2024-02-13 00:00:00+00:00</th>\n",
       "      <td>0.79192</td>\n",
       "    </tr>\n",
       "    <tr>\n",
       "      <th>2024-02-14 00:00:00+00:00</th>\n",
       "      <td>0.79424</td>\n",
       "    </tr>\n",
       "    <tr>\n",
       "      <th>2024-02-15 00:00:00+00:00</th>\n",
       "      <td>0.79565</td>\n",
       "    </tr>\n",
       "    <tr>\n",
       "      <th>2024-02-16 00:00:00+00:00</th>\n",
       "      <td>0.79370</td>\n",
       "    </tr>\n",
       "    <tr>\n",
       "      <th>2024-02-19 00:00:00+00:00</th>\n",
       "      <td>0.79440</td>\n",
       "    </tr>\n",
       "  </tbody>\n",
       "</table>\n",
       "<p>261 rows × 1 columns</p>\n",
       "</div>"
      ],
      "text/plain": [
       "                             Close\n",
       "Date                              \n",
       "2023-02-20 00:00:00+00:00  0.83127\n",
       "2023-02-21 00:00:00+00:00  0.83062\n",
       "2023-02-22 00:00:00+00:00  0.82581\n",
       "2023-02-23 00:00:00+00:00  0.82988\n",
       "2023-02-24 00:00:00+00:00  0.83210\n",
       "...                            ...\n",
       "2024-02-13 00:00:00+00:00  0.79192\n",
       "2024-02-14 00:00:00+00:00  0.79424\n",
       "2024-02-15 00:00:00+00:00  0.79565\n",
       "2024-02-16 00:00:00+00:00  0.79370\n",
       "2024-02-19 00:00:00+00:00  0.79440\n",
       "\n",
       "[261 rows x 1 columns]"
      ]
     },
     "execution_count": 5,
     "metadata": {},
     "output_type": "execute_result"
    }
   ],
   "source": [
    "# removing stuff we don't need, we only want the pair exchange rate in this case\n",
    "df = df.drop(['Volume','Dividends','Stock Splits', 'High', 'Low', 'Open'], axis=1)\n",
    "df"
   ]
  },
  {
   "cell_type": "code",
   "execution_count": 6,
   "metadata": {},
   "outputs": [
    {
     "data": {
      "text/plain": [
       "Text(0, 0.5, 'USDGBP Close')"
      ]
     },
     "execution_count": 6,
     "metadata": {},
     "output_type": "execute_result"
    },
    {
     "data": {
      "image/png": "[encoded data removed]",
      "text/plain": [
       "<Figure size 640x480 with 1 Axes>"
      ]
     },
     "metadata": {},
     "output_type": "display_data"
    }
   ],
   "source": [
    "plt.plot(df)\n",
    "plt.xlabel('Date')\n",
    "plt.ylabel('USDGBP Close')"
   ]
  },
  {
   "cell_type": "code",
   "execution_count": 7,
   "metadata": {},
   "outputs": [
    {
     "data": {
      "text/html": [
       "<div>\n",
       "<style scoped>\n",
       "    .dataframe tbody tr th:only-of-type {\n",
       "        vertical-align: middle;\n",
       "    }\n",
       "\n",
       "    .dataframe tbody tr th {\n",
       "        vertical-align: top;\n",
       "    }\n",
       "\n",
       "    .dataframe thead th {\n",
       "        text-align: right;\n",
       "    }\n",
       "</style>\n",
       "<table border=\"1\" class=\"dataframe\">\n",
       "  <thead>\n",
       "    <tr style=\"text-align: right;\">\n",
       "      <th></th>\n",
       "      <th>Returns</th>\n",
       "    </tr>\n",
       "    <tr>\n",
       "      <th>Date</th>\n",
       "      <th></th>\n",
       "    </tr>\n",
       "  </thead>\n",
       "  <tbody>\n",
       "    <tr>\n",
       "      <th>2023-02-20 00:00:00+00:00</th>\n",
       "      <td>NaN</td>\n",
       "    </tr>\n",
       "    <tr>\n",
       "      <th>2023-02-21 00:00:00+00:00</th>\n",
       "      <td>-0.078192</td>\n",
       "    </tr>\n",
       "    <tr>\n",
       "      <th>2023-02-22 00:00:00+00:00</th>\n",
       "      <td>-0.579083</td>\n",
       "    </tr>\n",
       "    <tr>\n",
       "      <th>2023-02-23 00:00:00+00:00</th>\n",
       "      <td>0.492847</td>\n",
       "    </tr>\n",
       "    <tr>\n",
       "      <th>2023-02-24 00:00:00+00:00</th>\n",
       "      <td>0.267506</td>\n",
       "    </tr>\n",
       "    <tr>\n",
       "      <th>...</th>\n",
       "      <td>...</td>\n",
       "    </tr>\n",
       "    <tr>\n",
       "      <th>2024-02-13 00:00:00+00:00</th>\n",
       "      <td>0.077087</td>\n",
       "    </tr>\n",
       "    <tr>\n",
       "      <th>2024-02-14 00:00:00+00:00</th>\n",
       "      <td>0.292958</td>\n",
       "    </tr>\n",
       "    <tr>\n",
       "      <th>2024-02-15 00:00:00+00:00</th>\n",
       "      <td>0.177529</td>\n",
       "    </tr>\n",
       "    <tr>\n",
       "      <th>2024-02-16 00:00:00+00:00</th>\n",
       "      <td>-0.245086</td>\n",
       "    </tr>\n",
       "    <tr>\n",
       "      <th>2024-02-19 00:00:00+00:00</th>\n",
       "      <td>0.088194</td>\n",
       "    </tr>\n",
       "  </tbody>\n",
       "</table>\n",
       "<p>261 rows × 1 columns</p>\n",
       "</div>"
      ],
      "text/plain": [
       "                            Returns\n",
       "Date                               \n",
       "2023-02-20 00:00:00+00:00       NaN\n",
       "2023-02-21 00:00:00+00:00 -0.078192\n",
       "2023-02-22 00:00:00+00:00 -0.579083\n",
       "2023-02-23 00:00:00+00:00  0.492847\n",
       "2023-02-24 00:00:00+00:00  0.267506\n",
       "...                             ...\n",
       "2024-02-13 00:00:00+00:00  0.077087\n",
       "2024-02-14 00:00:00+00:00  0.292958\n",
       "2024-02-15 00:00:00+00:00  0.177529\n",
       "2024-02-16 00:00:00+00:00 -0.245086\n",
       "2024-02-19 00:00:00+00:00  0.088194\n",
       "\n",
       "[261 rows x 1 columns]"
      ]
     },
     "execution_count": 7,
     "metadata": {},
     "output_type": "execute_result"
    }
   ],
   "source": [
    "# let's create a return series to better understand the annual performance of the USDGBP pair \n",
    "# (assume we're long, its simple that way in term of units and signs)\n",
    "price_series_USDGBP = pd.Series(df[\"Close\"])\n",
    "returns_series_USDGBP = price_series_USDGBP.pct_change() * 100\n",
    "returns_USDGBP = pd.DataFrame(returns_series_USDGBP)\n",
    "returns_USDGBP = returns_USDGBP.rename(columns={\"Close\":\"Returns\"})\n",
    "returns_USDGBP"
   ]
  },
  {
   "cell_type": "code",
   "execution_count": 8,
   "metadata": {},
   "outputs": [
    {
     "data": {
      "text/plain": [
       "Returns   -0.01634\n",
       "dtype: float64"
      ]
     },
     "execution_count": 8,
     "metadata": {},
     "output_type": "execute_result"
    }
   ],
   "source": [
    "# Expected returns\n",
    "E_returns = returns_USDGBP.mean(axis=0)\n",
    "E_returns"
   ]
  },
  {
   "cell_type": "markdown",
   "metadata": {},
   "source": [
    "### We have an expected return of -0.016% (3dp) everyday should we have a long USDGBP position the past year.\n",
    "\n",
    "Funnily enough, a very simple short daily algorithm, maybe 3 lines worth of code, would make you that return but commission is typically 0.025% on the NYSE so you would make a loss."
   ]
  },
  {
   "cell_type": "code",
   "execution_count": 9,
   "metadata": {},
   "outputs": [
    {
     "data": {
      "text/html": [
       "<div>\n",
       "<style scoped>\n",
       "    .dataframe tbody tr th:only-of-type {\n",
       "        vertical-align: middle;\n",
       "    }\n",
       "\n",
       "    .dataframe tbody tr th {\n",
       "        vertical-align: top;\n",
       "    }\n",
       "\n",
       "    .dataframe thead th {\n",
       "        text-align: right;\n",
       "    }\n",
       "</style>\n",
       "<table border=\"1\" class=\"dataframe\">\n",
       "  <thead>\n",
       "    <tr style=\"text-align: right;\">\n",
       "      <th></th>\n",
       "      <th>Cumulative Mean</th>\n",
       "    </tr>\n",
       "    <tr>\n",
       "      <th>Date</th>\n",
       "      <th></th>\n",
       "    </tr>\n",
       "  </thead>\n",
       "  <tbody>\n",
       "    <tr>\n",
       "      <th>2023-02-20 00:00:00+00:00</th>\n",
       "      <td>NaN</td>\n",
       "    </tr>\n",
       "    <tr>\n",
       "      <th>2023-02-21 00:00:00+00:00</th>\n",
       "      <td>-0.078192</td>\n",
       "    </tr>\n",
       "    <tr>\n",
       "      <th>2023-02-22 00:00:00+00:00</th>\n",
       "      <td>-0.328637</td>\n",
       "    </tr>\n",
       "    <tr>\n",
       "      <th>2023-02-23 00:00:00+00:00</th>\n",
       "      <td>-0.054809</td>\n",
       "    </tr>\n",
       "    <tr>\n",
       "      <th>2023-02-24 00:00:00+00:00</th>\n",
       "      <td>0.025770</td>\n",
       "    </tr>\n",
       "    <tr>\n",
       "      <th>...</th>\n",
       "      <td>...</td>\n",
       "    </tr>\n",
       "    <tr>\n",
       "      <th>2024-02-13 00:00:00+00:00</th>\n",
       "      <td>-0.017820</td>\n",
       "    </tr>\n",
       "    <tr>\n",
       "      <th>2024-02-14 00:00:00+00:00</th>\n",
       "      <td>-0.016611</td>\n",
       "    </tr>\n",
       "    <tr>\n",
       "      <th>2024-02-15 00:00:00+00:00</th>\n",
       "      <td>-0.015859</td>\n",
       "    </tr>\n",
       "    <tr>\n",
       "      <th>2024-02-16 00:00:00+00:00</th>\n",
       "      <td>-0.016744</td>\n",
       "    </tr>\n",
       "    <tr>\n",
       "      <th>2024-02-19 00:00:00+00:00</th>\n",
       "      <td>-0.016340</td>\n",
       "    </tr>\n",
       "  </tbody>\n",
       "</table>\n",
       "<p>261 rows × 1 columns</p>\n",
       "</div>"
      ],
      "text/plain": [
       "                           Cumulative Mean\n",
       "Date                                      \n",
       "2023-02-20 00:00:00+00:00              NaN\n",
       "2023-02-21 00:00:00+00:00        -0.078192\n",
       "2023-02-22 00:00:00+00:00        -0.328637\n",
       "2023-02-23 00:00:00+00:00        -0.054809\n",
       "2023-02-24 00:00:00+00:00         0.025770\n",
       "...                                    ...\n",
       "2024-02-13 00:00:00+00:00        -0.017820\n",
       "2024-02-14 00:00:00+00:00        -0.016611\n",
       "2024-02-15 00:00:00+00:00        -0.015859\n",
       "2024-02-16 00:00:00+00:00        -0.016744\n",
       "2024-02-19 00:00:00+00:00        -0.016340\n",
       "\n",
       "[261 rows x 1 columns]"
      ]
     },
     "execution_count": 9,
     "metadata": {},
     "output_type": "execute_result"
    }
   ],
   "source": [
    "running_mean_return = returns_USDGBP['Returns'].expanding().mean()\n",
    "cum_mean_returns_USDGBP = pd.DataFrame(running_mean_return)\n",
    "cum_mean_returns_USDGBP.rename(columns={\"Returns\":\"Cumulative Mean\"})"
   ]
  },
  {
   "cell_type": "code",
   "execution_count": 10,
   "metadata": {},
   "outputs": [
    {
     "data": {
      "text/plain": [
       "Text(0, 0.5, 'Returns')"
      ]
     },
     "execution_count": 10,
     "metadata": {},
     "output_type": "execute_result"
    },
    {
     "data": {
      "image/png": "[encoded data removed]",
      "text/plain": [
       "<Figure size 640x480 with 1 Axes>"
      ]
     },
     "metadata": {},
     "output_type": "display_data"
    }
   ],
   "source": [
    "plt.plot(returns_USDGBP)\n",
    "plt.plot(cum_mean_returns_USDGBP)\n",
    "plt.ylabel('Returns')\n",
    "# We are plotting the returns series and plotting the \"running average\" alongside to see whether\n",
    "# we can say that the data does in fact possess time series properties such as stationarity and following a distribution"
   ]
  },
  {
   "cell_type": "code",
   "execution_count": 23,
   "metadata": {},
   "outputs": [
    {
     "data": {
      "text/plain": [
       "Text(0, 0.5, 'Frequency')"
      ]
     },
     "execution_count": 23,
     "metadata": {},
     "output_type": "execute_result"
    },
    {
     "data": {
      "image/png": "[encoded data removed]",
      "text/plain": [
       "<Figure size 640x480 with 1 Axes>"
      ]
     },
     "metadata": {},
     "output_type": "display_data"
    }
   ],
   "source": [
    "plt.hist(returns_USDGBP, bins =40)\n",
    "plt.xlabel(\"Returns series as a %\")\n",
    "plt.ylabel(\"Frequency\")"
   ]
  },
  {
   "cell_type": "markdown",
   "metadata": {},
   "source": [
    "##### Evidently we do not have a large enough sample to declare a distribution but we could compute the sample metrics for the data and try and do statistical tests to estimate the error with which we could declare the sample data of a specific distribution - we will not do that here, instead we assume normality."
   ]
  },
  {
   "cell_type": "markdown",
   "metadata": {},
   "source": [
    "#### We cannot yet assume stationarity but for the sake of argument lets assume that the mean and variance converge in terms of an estimate distribution (think sample means, sample variances), and we end up with a familiar (though practically a bit inefficient and often times simplistic, sometimes wrong, model) lets say returns are normally distributed."
   ]
  },
  {
   "cell_type": "code",
   "execution_count": null,
   "metadata": {},
   "outputs": [
    {
     "data": {
      "text/plain": [
       "0.222247320717977"
      ]
     },
     "execution_count": 114,
     "metadata": {},
     "output_type": "execute_result"
    }
   ],
   "source": [
    "# calculating variance to then work towards realised volatility \n",
    "# you would typically work towards making an implied volatility model in an actual work environment that is future looking\n",
    "# but that requires actual maths instead of data science and is something I will leave as an exercise to those of you who are keen :D\n",
    "var_USDGBP = returns_USDGBP[\"Returns\"].var()\n",
    "var_USDGBP"
   ]
  },
  {
   "cell_type": "code",
   "execution_count": null,
   "metadata": {},
   "outputs": [
    {
     "data": {
      "text/plain": [
       "0.47143114101422806"
      ]
     },
     "execution_count": 115,
     "metadata": {},
     "output_type": "execute_result"
    }
   ],
   "source": [
    "# beware, this is a very implistic measure of volatility but it isn't entirely unfounded\n",
    "volatility_USDGBP = np.sqrt(var_USDGBP)\n",
    "volatility_USDGBP"
   ]
  },
  {
   "cell_type": "markdown",
   "metadata": {},
   "source": [
    "##### Using what we know about the normal distribution, we know 99% of all observations fall within 2.33 standard deviations of the mean, so to find the 5% VaR we just multiply the volatility by 2.33 by the position to get an estimate of the 99% VaR (i.e. the 1% worst-case outcome)."
   ]
  },
  {
   "cell_type": "code",
   "execution_count": null,
   "metadata": {},
   "outputs": [
    {
     "name": "stdout",
     "output_type": "stream",
     "text": [
      "Returns    790.150978\n",
      "dtype: float64\n"
     ]
    }
   ],
   "source": [
    "# Let us consider a position of USD 1000 for whatever GBP we can get in Mar 2023.\n",
    "\n",
    "VaR = 1000 * (-E_returns + 1.64 * volatility_USDGBP)\n",
    "print(VaR)"
   ]
  },
  {
   "cell_type": "markdown",
   "metadata": {},
   "source": [
    "# There is a 5% chance that on any given trading day you lose a maximum of USD 790 of value in GBP."
   ]
  },
  {
   "cell_type": "markdown",
   "metadata": {},
   "source": [
    "##### We have computed a \"one-asset VaR\" for the USDGBP pair. Extensive error testing and looking at data is crucial to making sure you're not making spurious connections! Typically the issue of \"fat-tails\" associated with normally distributed time series data is erased with the construction of a stationary portfolio mostly because the distributions themselves aren't normal (typically equity price movement with a reasonably medium Beta is n chi-squared distributed)."
   ]
  },
  {
   "cell_type": "markdown",
   "metadata": {},
   "source": [
    "# PV01 & DV01"
   ]
  },
  {
   "cell_type": "markdown",
   "metadata": {},
   "source": [
    "To continue onto measuring and computing the VaR and overall sensitivity of a portfolio of various securities (options, futures and other securities with a computable shortfall) we must be able to compute the PV01."
   ]
  },
  {
   "cell_type": "markdown",
   "metadata": {},
   "source": [
    "**_PV01 is the sensitivity of the total scheme assets to a one basis point (1 bps or 0.01 per cent) change in interest rates. It is measured in the denominator currency (typically USD). It stands for \"Present Value per 1 bp annuity\" i.e. the present value should there be a 1bp movement in the price of securities or the interest rate i.e. a 0.01% move_**"
   ]
  },
  {
   "cell_type": "markdown",
   "metadata": {},
   "source": [
    "We must also be able to calculate the nominal sensitivity of bonds that are often used to approximate a fixed income product such as a portfolio of assets (because we want to be able to reliably draw an income from a portfolio as portfolio managers)"
   ]
  },
  {
   "cell_type": "markdown",
   "metadata": {},
   "source": [
    "**_Mathematically, the dollar duration measures the change in the value of a bond portfolio for every 100 basis point change in interest rates. Dollar duration is often referred to formally as DV01 (i.e. dollar value per 01). Remember, 0.01 is equivalent to 1 percent, which is often denoted as 100 basis points (bps)._**"
   ]
  },
  {
   "cell_type": "markdown",
   "metadata": {},
   "source": [
    "### Maximum Drawdown"
   ]
  },
  {
   "cell_type": "markdown",
   "metadata": {},
   "source": [
    "It is defined as:\n",
    "\n",
    "$$ \\frac{K-P}{P}$$"
   ]
  },
  {
   "cell_type": "markdown",
   "metadata": {},
   "source": [
    "Where $P$ is the peak value of a portfolio over the investment period and $K$ is the trough value of the portfolio over the investment period. This should be a negative integer (except when the invetment has not ever lost value below the initial capital amount) and is a fairly concise way to historically evaluate the performance of an investment. We can also use this to compute RoMDD (Return over Maximum Drawdown) which is useful given we already have a return series! We can also compute a portfolio's Calmar Ratio."
   ]
  },
  {
   "cell_type": "markdown",
   "metadata": {},
   "source": [
    "### Calmar Ratio"
   ]
  },
  {
   "cell_type": "markdown",
   "metadata": {},
   "source": [
    "Made by William Sharpe (of the ever-present Sharpe Ratio), the Calmar Ratio gauges the performance of a portfolio with a focus on drawdown and is defined as:\n",
    "$$\\frac{R_p-R_t}{D_{max}}$$"
   ]
  },
  {
   "cell_type": "markdown",
   "metadata": {},
   "source": [
    "Where $R_p$ is the portfolio return, $R_t$ the target return (there are systematic ways to calculate this but lets set it to an arbitrary but reasonable number) and $D_max$ is the Maximum Drawdown."
   ]
  },
  {
   "cell_type": "markdown",
   "metadata": {},
   "source": [
    "### Expected Shortfall or CVaR (Conditional Value at Risk)"
   ]
  },
  {
   "cell_type": "markdown",
   "metadata": {},
   "source": [
    "As the name suggests, this is defined as what the expected loss on a portfolio of securities would be should a tail-risk be realised (a move more than 3 standard deviations from the mean). It is calculating taking the mean of returns in the worst 5% of cases (which should all be fairly large negative percentage values given that they are at the furthest edges of the bell curve)."
   ]
  },
  {
   "cell_type": "markdown",
   "metadata": {},
   "source": []
  }
 ],
 "metadata": {
  "kernelspec": {
   "display_name": "Python 3",
   "language": "python",
   "name": "python3"
  },
  "language_info": {
   "codemirror_mode": {
    "name": "ipython",
    "version": 3
   },
   "file_extension": ".py",
   "mimetype": "text/x-python",
   "name": "python",
   "nbconvert_exporter": "python",
   "pygments_lexer": "ipython3",
   "version": "3.12.1"
  }
 },
 "nbformat": 4,
 "nbformat_minor": 2
}
